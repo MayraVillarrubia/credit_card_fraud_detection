{
 "cells": [
  {
   "cell_type": "markdown",
   "metadata": {},
   "source": [
    "![credit card banner](images/banner-credit-card-fraud.jpg \"Credit card fraud detection banner\")"
   ]
  },
  {
   "cell_type": "markdown",
   "metadata": {},
   "source": [
    "## Credict Card Fraud Detection using `LOGISTIC REGRESSION`"
   ]
  },
  {
   "cell_type": "markdown",
   "metadata": {},
   "source": [
    "<hr style=\"border:2px solid gray\">"
   ]
  },
  {
   "cell_type": "markdown",
   "metadata": {},
   "source": [
    "### Import libraries"
   ]
  },
  {
   "cell_type": "code",
   "execution_count": 2,
   "metadata": {},
   "outputs": [],
   "source": [
    "from sklearn.model_selection import train_test_split, StratifiedShuffleSplit\n",
    "from sklearn.linear_model import LogisticRegression\n",
    "from sklearn.metrics import confusion_matrix\n",
    "from sklearn.metrics import jaccard_score, accuracy_score, f1_score, classification_report\n",
    "from utils import extract_files\n",
    "from imblearn.under_sampling import RandomUnderSampler\n",
    "import matplotlib.pyplot as plt\n",
    "from sklearn import preprocessing\n",
    "import seaborn as sns\n",
    "import itertools\n",
    "import pandas as pd\n",
    "import numpy as np\n",
    "\n"
   ]
  },
  {
   "cell_type": "markdown",
   "metadata": {},
   "source": [
    "### Download dataset"
   ]
  },
  {
   "cell_type": "markdown",
   "metadata": {},
   "source": [
    "Option 1: using the API's Kaggle <br><br>\n",
    "Note: the Kaggle library doesn't work with Python 3.12"
   ]
  },
  {
   "cell_type": "code",
   "execution_count": null,
   "metadata": {},
   "outputs": [],
   "source": [
    "# import kaggle\n",
    "# kaggle datasets download -d mlg-ulb/creditcardfraud\n",
    "# extract_files('creditcardfraud.zip')"
   ]
  },
  {
   "cell_type": "markdown",
   "metadata": {},
   "source": [
    "Option 2: Download from Kaggle website"
   ]
  },
  {
   "cell_type": "code",
   "execution_count": 56,
   "metadata": {},
   "outputs": [],
   "source": [
    "# https://www.kaggle.com/datasets/mlg-ulb/creditcardfraud/data"
   ]
  },
  {
   "cell_type": "markdown",
   "metadata": {},
   "source": [
    "### Load data into dataframe"
   ]
  },
  {
   "cell_type": "code",
   "execution_count": 32,
   "metadata": {},
   "outputs": [],
   "source": [
    "df_credit_card = pd.read_csv('creditcard.csv') "
   ]
  },
  {
   "cell_type": "markdown",
   "metadata": {},
   "source": [
    "##### To see info about dataset, go to the other file named: fastEda.ipynb"
   ]
  },
  {
   "cell_type": "markdown",
   "metadata": {},
   "source": [
    "Let's check the type of target data, it must be an integer. If it isn't an integer, we should change its type. "
   ]
  },
  {
   "cell_type": "code",
   "execution_count": 33,
   "metadata": {},
   "outputs": [
    {
     "data": {
      "text/plain": [
       "dtype('int64')"
      ]
     },
     "execution_count": 33,
     "metadata": {},
     "output_type": "execute_result"
    }
   ],
   "source": [
    "df_credit_card.Class.dtype"
   ]
  },
  {
   "cell_type": "code",
   "execution_count": 34,
   "metadata": {},
   "outputs": [
    {
     "name": "stdout",
     "output_type": "stream",
     "text": [
      "No Fraud - Rows x Columns: (284315, 31)\n",
      "Fraud - Rows x Columns: (492, 31)\n"
     ]
    }
   ],
   "source": [
    "fraud = df_credit_card[df_credit_card.Class == 1]\n",
    "no_fraud = df_credit_card[df_credit_card.Class == 0]\n",
    "print('No Fraud - Rows x Columns:', no_fraud.shape)\n",
    "print('Fraud - Rows x Columns:', fraud.shape)\n"
   ]
  },
  {
   "cell_type": "markdown",
   "metadata": {},
   "source": [
    "<hr style=\"border:1px solid green\">"
   ]
  },
  {
   "cell_type": "markdown",
   "metadata": {},
   "source": [
    "## Unbalanced dataset"
   ]
  },
  {
   "cell_type": "code",
   "execution_count": 35,
   "metadata": {},
   "outputs": [
    {
     "data": {
      "text/plain": [
       "(284807, 31)"
      ]
     },
     "execution_count": 35,
     "metadata": {},
     "output_type": "execute_result"
    }
   ],
   "source": [
    "df_unbalanced_credit_card = df_credit_card.copy()\n",
    "df_unbalanced_credit_card.shape"
   ]
  },
  {
   "cell_type": "markdown",
   "metadata": {},
   "source": [
    "#### Define `X` (independent variables)\n"
   ]
  },
  {
   "cell_type": "code",
   "execution_count": 36,
   "metadata": {},
   "outputs": [
    {
     "data": {
      "text/plain": [
       "(284807, 30)"
      ]
     },
     "metadata": {},
     "output_type": "display_data"
    },
    {
     "data": {
      "text/plain": [
       "array([[ 0.00000000e+00, -1.35980713e+00, -7.27811733e-02,\n",
       "         2.53634674e+00,  1.37815522e+00, -3.38320770e-01,\n",
       "         4.62387778e-01,  2.39598554e-01,  9.86979013e-02,\n",
       "         3.63786970e-01,  9.07941720e-02, -5.51599533e-01,\n",
       "        -6.17800856e-01, -9.91389847e-01, -3.11169354e-01,\n",
       "         1.46817697e+00, -4.70400525e-01,  2.07971242e-01,\n",
       "         2.57905802e-02,  4.03992960e-01,  2.51412098e-01,\n",
       "        -1.83067779e-02,  2.77837576e-01, -1.10473910e-01,\n",
       "         6.69280749e-02,  1.28539358e-01, -1.89114844e-01,\n",
       "         1.33558377e-01, -2.10530535e-02,  1.49620000e+02],\n",
       "       [ 0.00000000e+00,  1.19185711e+00,  2.66150712e-01,\n",
       "         1.66480113e-01,  4.48154078e-01,  6.00176493e-02,\n",
       "        -8.23608088e-02, -7.88029833e-02,  8.51016549e-02,\n",
       "        -2.55425128e-01, -1.66974414e-01,  1.61272666e+00,\n",
       "         1.06523531e+00,  4.89095016e-01, -1.43772296e-01,\n",
       "         6.35558093e-01,  4.63917041e-01, -1.14804663e-01,\n",
       "        -1.83361270e-01, -1.45783041e-01, -6.90831352e-02,\n",
       "        -2.25775248e-01, -6.38671953e-01,  1.01288021e-01,\n",
       "        -3.39846476e-01,  1.67170404e-01,  1.25894532e-01,\n",
       "        -8.98309914e-03,  1.47241692e-02,  2.69000000e+00],\n",
       "       [ 1.00000000e+00, -1.35835406e+00, -1.34016307e+00,\n",
       "         1.77320934e+00,  3.79779593e-01, -5.03198133e-01,\n",
       "         1.80049938e+00,  7.91460956e-01,  2.47675787e-01,\n",
       "        -1.51465432e+00,  2.07642865e-01,  6.24501459e-01,\n",
       "         6.60836853e-02,  7.17292731e-01, -1.65945923e-01,\n",
       "         2.34586495e+00, -2.89008319e+00,  1.10996938e+00,\n",
       "        -1.21359313e-01, -2.26185710e+00,  5.24979725e-01,\n",
       "         2.47998153e-01,  7.71679402e-01,  9.09412262e-01,\n",
       "        -6.89280956e-01, -3.27641834e-01, -1.39096572e-01,\n",
       "        -5.53527940e-02, -5.97518406e-02,  3.78660000e+02],\n",
       "       [ 1.00000000e+00, -9.66271712e-01, -1.85226008e-01,\n",
       "         1.79299334e+00, -8.63291275e-01, -1.03088796e-02,\n",
       "         1.24720317e+00,  2.37608940e-01,  3.77435875e-01,\n",
       "        -1.38702406e+00, -5.49519225e-02, -2.26487264e-01,\n",
       "         1.78228226e-01,  5.07756870e-01, -2.87923745e-01,\n",
       "        -6.31418118e-01, -1.05964725e+00, -6.84092786e-01,\n",
       "         1.96577500e+00, -1.23262197e+00, -2.08037781e-01,\n",
       "        -1.08300452e-01,  5.27359678e-03, -1.90320519e-01,\n",
       "        -1.17557533e+00,  6.47376035e-01, -2.21928844e-01,\n",
       "         6.27228487e-02,  6.14576285e-02,  1.23500000e+02],\n",
       "       [ 2.00000000e+00, -1.15823309e+00,  8.77736755e-01,\n",
       "         1.54871785e+00,  4.03033934e-01, -4.07193377e-01,\n",
       "         9.59214625e-02,  5.92940745e-01, -2.70532677e-01,\n",
       "         8.17739308e-01,  7.53074432e-01, -8.22842878e-01,\n",
       "         5.38195550e-01,  1.34585159e+00, -1.11966983e+00,\n",
       "         1.75121130e-01, -4.51449183e-01, -2.37033239e-01,\n",
       "        -3.81947870e-02,  8.03486925e-01,  4.08542360e-01,\n",
       "        -9.43069713e-03,  7.98278495e-01, -1.37458080e-01,\n",
       "         1.41266984e-01, -2.06009588e-01,  5.02292224e-01,\n",
       "         2.19422230e-01,  2.15153147e-01,  6.99900000e+01]])"
      ]
     },
     "execution_count": 36,
     "metadata": {},
     "output_type": "execute_result"
    }
   ],
   "source": [
    "X_unb = df_unbalanced_credit_card.drop('Class', axis=1)\n",
    "display(X_unb.shape)\n",
    "X_unb = np.asarray(X_unb)\n",
    "X_unb[0:5]"
   ]
  },
  {
   "cell_type": "markdown",
   "metadata": {},
   "source": [
    "#### Define `y` target\n"
   ]
  },
  {
   "cell_type": "code",
   "execution_count": 37,
   "metadata": {},
   "outputs": [
    {
     "data": {
      "text/plain": [
       "0    0\n",
       "1    0\n",
       "2    0\n",
       "3    0\n",
       "4    0\n",
       "Name: Class, dtype: int64"
      ]
     },
     "execution_count": 37,
     "metadata": {},
     "output_type": "execute_result"
    }
   ],
   "source": [
    "y_unb = df_unbalanced_credit_card.Class\n",
    "# y_unb = np.asarray(df_unbalanced_credit_card.Class) # sss doesn't work with \n",
    "y_unb.shape\n",
    "y_unb[0:5]"
   ]
  },
  {
   "cell_type": "markdown",
   "metadata": {},
   "source": [
    "#### Normalize X set"
   ]
  },
  {
   "cell_type": "code",
   "execution_count": 38,
   "metadata": {},
   "outputs": [
    {
     "data": {
      "text/plain": [
       "array([[-1.99658302, -0.69424232, -0.04407492,  1.6727735 ,  0.97336551,\n",
       "        -0.24511658,  0.34706795,  0.19367894,  0.08263728,  0.33112778,\n",
       "         0.08338555, -0.54040704, -0.61829572, -0.99609892, -0.32461019,\n",
       "         1.60401384, -0.53683287,  0.24486345,  0.03076993,  0.49628203,\n",
       "         0.32611802, -0.02492336,  0.38285444, -0.17691133,  0.11050692,\n",
       "         0.24658544, -0.39217043,  0.33089162, -0.06378115,  0.24496426],\n",
       "       [-1.99658302,  0.60849633,  0.16117592,  0.1097971 ,  0.31652293,\n",
       "         0.04348335, -0.06181997, -0.06370021,  0.07125348, -0.23249419,\n",
       "        -0.15334963,  1.58000285,  1.06608857,  0.4914182 , -0.14998248,\n",
       "         0.69436042,  0.52943375, -0.13516997, -0.21876258, -0.17908605,\n",
       "        -0.08961086, -0.3073768 , -0.88007675,  0.16220118, -0.56113055,\n",
       "         0.3206939 ,  0.26106948, -0.02225568,  0.04460752, -0.34247454],\n",
       "       [-1.99656197, -0.69350046, -0.81157783,  1.16946849,  0.26823129,\n",
       "        -0.36457179,  1.35145359,  0.63977564,  0.20737273, -1.37867535,\n",
       "         0.19069961,  0.61182971,  0.06613662,  0.72069985, -0.17311389,\n",
       "         2.56290618, -3.29823537,  1.30686788, -0.14478999, -2.77856085,\n",
       "         0.68097497,  0.3376317 ,  1.06335827,  1.45631975, -1.13809214,\n",
       "        -0.62853672, -0.28844675, -0.13713686, -0.18102083,  1.16068593],\n",
       "       [-1.99656197, -0.4933249 , -0.11216942,  1.18251645, -0.60972664,\n",
       "        -0.00746888,  0.93614983,  0.19207064,  0.3160176 , -1.26250317,\n",
       "        -0.05046795, -0.22189161,  0.17837099,  0.5101687 , -0.30036049,\n",
       "        -0.68983741, -1.20929599, -0.80544464,  2.34530452, -1.51420492,\n",
       "        -0.26985523, -0.1474433 ,  0.00726691, -0.30477655, -1.94102714,\n",
       "         1.24190371, -0.46021734,  0.15539621,  0.18618859,  0.14053425],\n",
       "       [-1.99654091, -0.59132976,  0.53154105,  1.02141168,  0.2846554 ,\n",
       "        -0.29501544,  0.07199858,  0.47930228, -0.22651023,  0.74432629,\n",
       "         0.69162503, -0.80614659,  0.53862665,  1.35224435, -1.16803351,\n",
       "         0.19132347, -0.51520512, -0.27908079, -0.045569  ,  0.9870373 ,\n",
       "         0.52993879, -0.01283922,  1.10001127, -0.2201234 ,  0.23325009,\n",
       "        -0.39520164,  1.0416113 ,  0.5436198 ,  0.65181592, -0.07340334]])"
      ]
     },
     "execution_count": 38,
     "metadata": {},
     "output_type": "execute_result"
    }
   ],
   "source": [
    "X_unb=preprocessing.StandardScaler().fit(X_unb).transform(X_unb)\n",
    "X_unb[0:5]"
   ]
  },
  {
   "cell_type": "markdown",
   "metadata": {},
   "source": [
    "### Define train/test set"
   ]
  },
  {
   "cell_type": "code",
   "execution_count": 39,
   "metadata": {},
   "outputs": [
    {
     "name": "stdout",
     "output_type": "stream",
     "text": [
      "X Train set:  (227845, 30)\n",
      "Y Train set:  (227845,)\n",
      "==============\n",
      "X Test set:  (56962, 30)\n",
      "Y Test set:  (56962,)\n"
     ]
    }
   ],
   "source": [
    "# evaluate to change parameters to enhanced the predictions\n",
    "\n",
    "sss = StratifiedShuffleSplit(n_splits=5, test_size=0.2, random_state=0)\n",
    "sss.get_n_splits(X_unb, y_unb)\n",
    "for i, (train_index, test_index) in enumerate(sss.split(X_unb, y_unb)):\n",
    "    X_train, X_test = X_unb[train_index], X_unb[test_index]\n",
    "    y_train, y_test = y_unb[train_index], y_unb[test_index]\n",
    "    \n",
    "print (\"X Train set: \", X_train.shape)\n",
    "print (\"Y Train set: \", y_train.shape)\n",
    "print ('==============')\n",
    "print (\"X Test set: \", X_test.shape)\n",
    "print (\"Y Test set: \", y_test.shape)\n",
    "\n"
   ]
  },
  {
   "cell_type": "markdown",
   "metadata": {},
   "source": [
    "### Modeling: LogisticRegression"
   ]
  },
  {
   "cell_type": "code",
   "execution_count": 259,
   "metadata": {},
   "outputs": [
    {
     "name": "stderr",
     "output_type": "stream",
     "text": [
      "/Users/mayv/anaconda3/envs/base-environment/lib/python3.12/site-packages/sklearn/linear_model/_logistic.py:469: ConvergenceWarning: lbfgs failed to converge (status=1):\n",
      "STOP: TOTAL NO. of ITERATIONS REACHED LIMIT.\n",
      "\n",
      "Increase the number of iterations (max_iter) or scale the data as shown in:\n",
      "    https://scikit-learn.org/stable/modules/preprocessing.html\n",
      "Please also refer to the documentation for alternative solver options:\n",
      "    https://scikit-learn.org/stable/modules/linear_model.html#logistic-regression\n",
      "  n_iter_i = _check_optimize_result(\n",
      "/Users/mayv/anaconda3/envs/base-environment/lib/python3.12/site-packages/sklearn/linear_model/_sag.py:350: ConvergenceWarning: The max_iter was reached which means the coef_ did not converge\n",
      "  warnings.warn(\n"
     ]
    }
   ],
   "source": [
    "#we use several solvers to evaluate the accuracy for each prediction\n",
    "log_reg_lib = LogisticRegression(C=0.01, solver='liblinear').fit(X_train, y_train)\n",
    "log_reg_nwt = LogisticRegression(C=0.01, solver='newton-cg').fit(X_train, y_train)\n",
    "log_reg_lb = LogisticRegression(C=0.01, solver='lbfgs').fit(X_train, y_train)\n",
    "log_reg_sag = LogisticRegression(C=0.01, solver='sag').fit(X_train, y_train)"
   ]
  },
  {
   "cell_type": "markdown",
   "metadata": {},
   "source": [
    "#### Predictions"
   ]
  },
  {
   "cell_type": "code",
   "execution_count": 260,
   "metadata": {},
   "outputs": [],
   "source": [
    "yhat_lib = log_reg_lib.predict(X_test)\n",
    "yhat_nwt = log_reg_nwt.predict(X_test)\n",
    "yhat_lb = log_reg_lb.predict(X_test)\n",
    "yhat_sag = log_reg_sag.predict(X_test)"
   ]
  },
  {
   "cell_type": "markdown",
   "metadata": {},
   "source": [
    "#### Metrics"
   ]
  },
  {
   "cell_type": "markdown",
   "metadata": {},
   "source": [
    "Classification report"
   ]
  },
  {
   "cell_type": "code",
   "execution_count": 263,
   "metadata": {},
   "outputs": [
    {
     "name": "stdout",
     "output_type": "stream",
     "text": [
      "Classification Report on testing data \n",
      " ============\n",
      "Libnear:\n",
      "                precision    recall  f1-score   support\n",
      "\n",
      "   Not Fraud       1.00      1.00      1.00     56864\n",
      "       Fraud       0.80      0.48      0.60        98\n",
      "\n",
      "    accuracy                           1.00     56962\n",
      "   macro avg       0.90      0.74      0.80     56962\n",
      "weighted avg       1.00      1.00      1.00     56962\n",
      " \n",
      " ============\n",
      "Newton-cg: \n",
      "                precision    recall  f1-score   support\n",
      "\n",
      "   Not Fraud       1.00      1.00      1.00     56864\n",
      "       Fraud       0.87      0.56      0.68        98\n",
      "\n",
      "    accuracy                           1.00     56962\n",
      "   macro avg       0.94      0.78      0.84     56962\n",
      "weighted avg       1.00      1.00      1.00     56962\n",
      "\n"
     ]
    }
   ],
   "source": [
    "print (\"Classification Report on testing data \\n ============\")\n",
    "print(\"Libnear:\\n \", classification_report(y_test, yhat_lib, target_names=['Not Fraud', 'Fraud']), '\\n ============')\n",
    "print(\"Newton-cg: \\n \", classification_report(y_test, yhat_nwt, target_names=['Not Fraud', 'Fraud']), '\\n ============')\n",
    "print(\"Lbfgs:\\n \", classification_report(y_test, yhat_lb, target_names=['Not Fraud', 'Fraud']), '\\n ============')\n",
    "print(\"Sag:\\n \", classification_report(y_test, yhat_sag, target_names=['Not Fraud', 'Fraud']), '\\n ============')\n",
    "\n"
   ]
  },
  {
   "cell_type": "markdown",
   "metadata": {},
   "source": [
    "Jaccard Score"
   ]
  },
  {
   "cell_type": "code",
   "execution_count": null,
   "metadata": {},
   "outputs": [],
   "source": [
    "print ('Jaccard score \\n ============')\n",
    "print(\"liblinear: \", jaccard_score(y_test, yhat_lib, pos_label=0))\n",
    "print(\"newton-cg: \", jaccard_score(y_test, yhat_nwt, pos_label=0))\n",
    "print(\"lbfgs: \", jaccard_score(y_test, yhat_lb, pos_label=0))\n",
    "print(\"sag: \", jaccard_score(y_test, yhat_sag,pos_label=0))"
   ]
  },
  {
   "cell_type": "markdown",
   "metadata": {},
   "source": [
    "Accuracy"
   ]
  },
  {
   "cell_type": "code",
   "execution_count": null,
   "metadata": {},
   "outputs": [],
   "source": [
    "print (\"Accuracy score on testing data \\n ============\")\n",
    "print (\"libnear: \", accuracy_score(y_test, yhat_lib ))\n",
    "print (\"newton-cg: \", accuracy_score(y_test, yhat_nwt))\n",
    "print(\"lbfgs: \", accuracy_score(y_test, yhat_lb))\n",
    "print(\"sag: \", accuracy_score(y_test, yhat_sag))"
   ]
  },
  {
   "cell_type": "markdown",
   "metadata": {},
   "source": [
    "F1-Score"
   ]
  },
  {
   "cell_type": "code",
   "execution_count": null,
   "metadata": {},
   "outputs": [],
   "source": [
    "print (\"F1 score on testing data \\n ============\")\n",
    "print (\"libnear: \", f1_score(y_test, yhat_lib))\n",
    "print (\"newton-cg: \", f1_score(y_test, yhat_nwt) )\n",
    "print(\"lb: \", f1_score(y_test, yhat_lb))\n",
    "print (\"sag: \", f1_score(y_test, yhat_sag) )"
   ]
  },
  {
   "cell_type": "markdown",
   "metadata": {},
   "source": [
    "<hr style=\"border:1px solid green\">"
   ]
  },
  {
   "cell_type": "markdown",
   "metadata": {},
   "source": [
    "## Balanced dataset"
   ]
  },
  {
   "cell_type": "code",
   "execution_count": 29,
   "metadata": {},
   "outputs": [
    {
     "name": "stdout",
     "output_type": "stream",
     "text": [
      "No fraudulent transactions:  284315\n",
      "Fraudulent transactions:  492\n"
     ]
    }
   ],
   "source": [
    "# To reminder: the original dataset is unbalanced\n",
    "print ('No fraudulent transactions: ', no_fraud.shape[0])\n",
    "print ('Fraudulent transactions: ', fraud.shape[0])"
   ]
  },
  {
   "cell_type": "markdown",
   "metadata": {},
   "source": [
    "### Define `X`"
   ]
  },
  {
   "cell_type": "code",
   "execution_count": null,
   "metadata": {},
   "outputs": [],
   "source": [
    "# define X\n",
    "X = df_credit_card.drop('Class', axis=1)\n",
    "display(X.shape)\n",
    "X = np.asarray(X)\n",
    "X[0:5]"
   ]
  },
  {
   "cell_type": "markdown",
   "metadata": {},
   "source": [
    "### Define `y` target"
   ]
  },
  {
   "cell_type": "code",
   "execution_count": 41,
   "metadata": {},
   "outputs": [
    {
     "data": {
      "text/plain": [
       "(284807,)"
      ]
     },
     "execution_count": 41,
     "metadata": {},
     "output_type": "execute_result"
    }
   ],
   "source": [
    "# define y\n",
    "y = np.asarray(df_credit_card['Class'])\n",
    "y.shape\n"
   ]
  },
  {
   "cell_type": "markdown",
   "metadata": {},
   "source": [
    "### Normalize X"
   ]
  },
  {
   "cell_type": "code",
   "execution_count": 48,
   "metadata": {},
   "outputs": [
    {
     "data": {
      "text/plain": [
       "array([[-1.99658302, -0.69424232, -0.04407492,  1.6727735 ,  0.97336551,\n",
       "        -0.24511658,  0.34706795,  0.19367894,  0.08263728,  0.33112778,\n",
       "         0.08338555, -0.54040704, -0.61829572, -0.99609892, -0.32461019,\n",
       "         1.60401384, -0.53683287,  0.24486345,  0.03076993,  0.49628203,\n",
       "         0.32611802, -0.02492336,  0.38285444, -0.17691133,  0.11050692,\n",
       "         0.24658544, -0.39217043,  0.33089162, -0.06378115,  0.24496426],\n",
       "       [-1.99658302,  0.60849633,  0.16117592,  0.1097971 ,  0.31652293,\n",
       "         0.04348335, -0.06181997, -0.06370021,  0.07125348, -0.23249419,\n",
       "        -0.15334963,  1.58000285,  1.06608857,  0.4914182 , -0.14998248,\n",
       "         0.69436042,  0.52943375, -0.13516997, -0.21876258, -0.17908605,\n",
       "        -0.08961086, -0.3073768 , -0.88007675,  0.16220118, -0.56113055,\n",
       "         0.3206939 ,  0.26106948, -0.02225568,  0.04460752, -0.34247454],\n",
       "       [-1.99656197, -0.69350046, -0.81157783,  1.16946849,  0.26823129,\n",
       "        -0.36457179,  1.35145359,  0.63977564,  0.20737273, -1.37867535,\n",
       "         0.19069961,  0.61182971,  0.06613662,  0.72069985, -0.17311389,\n",
       "         2.56290618, -3.29823537,  1.30686788, -0.14478999, -2.77856085,\n",
       "         0.68097497,  0.3376317 ,  1.06335827,  1.45631975, -1.13809214,\n",
       "        -0.62853672, -0.28844675, -0.13713686, -0.18102083,  1.16068593],\n",
       "       [-1.99656197, -0.4933249 , -0.11216942,  1.18251645, -0.60972664,\n",
       "        -0.00746888,  0.93614983,  0.19207064,  0.3160176 , -1.26250317,\n",
       "        -0.05046795, -0.22189161,  0.17837099,  0.5101687 , -0.30036049,\n",
       "        -0.68983741, -1.20929599, -0.80544464,  2.34530452, -1.51420492,\n",
       "        -0.26985523, -0.1474433 ,  0.00726691, -0.30477655, -1.94102714,\n",
       "         1.24190371, -0.46021734,  0.15539621,  0.18618859,  0.14053425],\n",
       "       [-1.99654091, -0.59132976,  0.53154105,  1.02141168,  0.2846554 ,\n",
       "        -0.29501544,  0.07199858,  0.47930228, -0.22651023,  0.74432629,\n",
       "         0.69162503, -0.80614659,  0.53862665,  1.35224435, -1.16803351,\n",
       "         0.19132347, -0.51520512, -0.27908079, -0.045569  ,  0.9870373 ,\n",
       "         0.52993879, -0.01283922,  1.10001127, -0.2201234 ,  0.23325009,\n",
       "        -0.39520164,  1.0416113 ,  0.5436198 ,  0.65181592, -0.07340334]])"
      ]
     },
     "execution_count": 48,
     "metadata": {},
     "output_type": "execute_result"
    }
   ],
   "source": [
    "X=preprocessing.StandardScaler().fit(X).transform(X)\n",
    "X[0:5]"
   ]
  },
  {
   "cell_type": "markdown",
   "metadata": {},
   "source": [
    "### Random Under sampler"
   ]
  },
  {
   "cell_type": "markdown",
   "metadata": {},
   "source": [
    "Due to the dataset is unbalanced, there are only 492 fraudulent transactions, the training dataset must be reduced in order to balance the positive and negative cases."
   ]
  },
  {
   "cell_type": "code",
   "execution_count": 49,
   "metadata": {},
   "outputs": [
    {
     "name": "stdout",
     "output_type": "stream",
     "text": [
      "X data set: (984, 30)\n",
      "y target:  (984,)\n",
      "not fraud ( 0 ) : 492\n",
      "fraud:( 1 ): 492\n"
     ]
    }
   ],
   "source": [
    "rus = RandomUnderSampler(random_state=42)\n",
    "X_bal, y_bal = rus.fit_resample(X, y)\n",
    "print('X data set:', X_bal.shape)\n",
    "print('y target: ', y_bal.shape)\n",
    "values, count = np.unique(y_bal, return_counts=True, equal_nan=False)\n",
    "print ('not fraud (',str(values[0]),')', ':', count[0])\n",
    "print ('fraud:(',str(values[1]),')' ':', count[1])"
   ]
  },
  {
   "cell_type": "markdown",
   "metadata": {},
   "source": [
    "### Define train/test dataset"
   ]
  },
  {
   "cell_type": "code",
   "execution_count": 50,
   "metadata": {},
   "outputs": [
    {
     "name": "stdout",
     "output_type": "stream",
     "text": [
      "X Train set:  (787, 30)\n",
      "Y Train set:  (787,)\n",
      "==============\n",
      "X Test set:  (197, 30)\n",
      "Y Test set:  (197,)\n"
     ]
    }
   ],
   "source": [
    "#sss = StratifiedShuffleSplit(n_splits=5, test_size=0.2, random_state=0)\n",
    "sss.get_n_splits(X, y)\n",
    "for i, (train_index, test_index) in enumerate(sss.split(X_bal, y_bal)):\n",
    "    X_train_, X_test_ = X_bal[train_index], X_bal[test_index]\n",
    "    y_train_, y_test_ = y_bal[train_index], y_bal[test_index]\n",
    "    \n",
    "print (\"X Train set: \", X_train_.shape)\n",
    "print (\"Y Train set: \", y_train_.shape)\n",
    "print ('==============')\n",
    "print (\"X Test set: \", X_test_.shape)\n",
    "print (\"Y Test set: \", y_test_.shape)\n"
   ]
  },
  {
   "cell_type": "markdown",
   "metadata": {},
   "source": [
    "### Modeling: Logistic Regression"
   ]
  },
  {
   "cell_type": "code",
   "execution_count": 51,
   "metadata": {},
   "outputs": [
    {
     "name": "stderr",
     "output_type": "stream",
     "text": [
      "/Users/mayv/anaconda3/envs/base-environment/lib/python3.12/site-packages/sklearn/linear_model/_sag.py:349: ConvergenceWarning: The max_iter was reached which means the coef_ did not converge\n",
      "  warnings.warn(\n"
     ]
    }
   ],
   "source": [
    "#we use several solvers to evaluate the accuracy for each prediction\n",
    "log_reg_lib = LogisticRegression(C=0.01, solver='liblinear').fit(X_train_, y_train_)\n",
    "log_reg_nwt = LogisticRegression(C=0.01, solver='newton-cg').fit(X_train_, y_train_)\n",
    "log_reg_lb = LogisticRegression(C=0.01, solver='lbfgs').fit(X_train_, y_train_)\n",
    "log_reg_sag = LogisticRegression(C=0.01, solver='sag').fit(X_train_, y_train_)"
   ]
  },
  {
   "cell_type": "code",
   "execution_count": null,
   "metadata": {},
   "outputs": [],
   "source": [
    "log_reg_lib.predict_proba(X_test_)"
   ]
  },
  {
   "cell_type": "markdown",
   "metadata": {},
   "source": [
    "### Predictions"
   ]
  },
  {
   "cell_type": "code",
   "execution_count": 52,
   "metadata": {},
   "outputs": [],
   "source": [
    "y_pred_lib = log_reg_lib.predict(X_test_)\n",
    "y_pred_nwt = log_reg_nwt.predict(X_test_)\n",
    "y_pred_lb = log_reg_lb.predict(X_test_)\n",
    "y_pred_sag = log_reg_sag.predict(X_test_)"
   ]
  },
  {
   "cell_type": "markdown",
   "metadata": {},
   "source": [
    "### Metrics"
   ]
  },
  {
   "cell_type": "code",
   "execution_count": 54,
   "metadata": {},
   "outputs": [
    {
     "name": "stdout",
     "output_type": "stream",
     "text": [
      "Classification Report on testing data \n",
      " ============\n",
      "Libnear:\n",
      "                precision    recall  f1-score   support\n",
      "\n",
      "   Not Fraud       0.93      0.97      0.95        98\n",
      "       Fraud       0.97      0.93      0.95        99\n",
      "\n",
      "    accuracy                           0.95       197\n",
      "   macro avg       0.95      0.95      0.95       197\n",
      "weighted avg       0.95      0.95      0.95       197\n",
      " \n",
      " ============\n",
      "Newton-cg: \n",
      "                precision    recall  f1-score   support\n",
      "\n",
      "   Not Fraud       0.87      0.99      0.93        98\n",
      "       Fraud       0.99      0.86      0.92        99\n",
      "\n",
      "    accuracy                           0.92       197\n",
      "   macro avg       0.93      0.92      0.92       197\n",
      "weighted avg       0.93      0.92      0.92       197\n",
      " \n",
      " ============\n",
      "lbfgs: \n",
      "                precision    recall  f1-score   support\n",
      "\n",
      "   Not Fraud       0.87      0.99      0.93        98\n",
      "       Fraud       0.99      0.86      0.92        99\n",
      "\n",
      "    accuracy                           0.92       197\n",
      "   macro avg       0.93      0.92      0.92       197\n",
      "weighted avg       0.93      0.92      0.92       197\n",
      " \n",
      " ============\n"
     ]
    }
   ],
   "source": [
    "print (\"Classification Report on testing data \\n ============\")\n",
    "print(\"Libnear:\\n \", classification_report(y_test_, y_pred_lib, target_names=['Not Fraud', 'Fraud']), '\\n ============')\n",
    "print(\"Newton-cg: \\n \", classification_report(y_test_, y_pred_nwt, target_names=['Not Fraud', 'Fraud']), '\\n ============')\n",
    "print(\"lbfgs: \\n \", classification_report(y_test_, y_pred_lb, target_names=['Not Fraud', 'Fraud']), '\\n ============')"
   ]
  },
  {
   "cell_type": "markdown",
   "metadata": {},
   "source": [
    "Jaccard Score"
   ]
  },
  {
   "cell_type": "code",
   "execution_count": null,
   "metadata": {},
   "outputs": [],
   "source": [
    "print ('Jaccard score \\n ============')\n",
    "print(\"liblinear: \", jaccard_score(y_test_, y_pred_lib, pos_label=0))\n",
    "print(\"newton-cg: \", jaccard_score(y_test_, y_pred_nwt, pos_label=0))\n",
    "print(\"lbfgs: \", jaccard_score(y_test_, y_pred_lb, pos_label=0))\n",
    "print(\"sag: \", jaccard_score(y_test_, y_pred_sag,pos_label=0))"
   ]
  },
  {
   "cell_type": "markdown",
   "metadata": {},
   "source": [
    "Accuracy"
   ]
  },
  {
   "cell_type": "code",
   "execution_count": null,
   "metadata": {},
   "outputs": [],
   "source": [
    "print (\"Accuracy score on testing data \\n ============\")\n",
    "print (\"libnear: \", accuracy_score(y_test_, y_pred_lib ))\n",
    "print (\"newton-cg: \", accuracy_score(y_test, y_pred_nwt))\n",
    "print(\"lbfgs: \", accuracy_score(y_test_, y_pred_lb))\n",
    "print(\"sag: \", accuracy_score(y_test_, y_pred_sag))"
   ]
  },
  {
   "cell_type": "markdown",
   "metadata": {},
   "source": [
    "F1-Score"
   ]
  },
  {
   "cell_type": "code",
   "execution_count": null,
   "metadata": {},
   "outputs": [],
   "source": [
    "print (\"F1 score on testing data \\n ============\")\n",
    "print (\"libnear: \", f1_score(y_test_, y_pred_lib))\n",
    "print (\"newton-cg: \", f1_score( y_test_, y_pred_nwt) )\n",
    "print(\"lb: \", f1_score(y_test_, y_pred_lb))\n",
    "print (\"sag: \", f1_score(y_test_, y_pred_sag) )"
   ]
  }
 ],
 "metadata": {
  "kernelspec": {
   "display_name": "base-environment",
   "language": "python",
   "name": "python3"
  },
  "language_info": {
   "codemirror_mode": {
    "name": "ipython",
    "version": 3
   },
   "file_extension": ".py",
   "mimetype": "text/x-python",
   "name": "python",
   "nbconvert_exporter": "python",
   "pygments_lexer": "ipython3",
   "version": "3.12.3"
  }
 },
 "nbformat": 4,
 "nbformat_minor": 2
}
