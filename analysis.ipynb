{
 "cells": [
  {
   "cell_type": "markdown",
   "metadata": {},
   "source": [
    "![credit card banner](images/banner-credit-card-fraud.jpg \"Credit card fraud detection banner\")"
   ]
  },
  {
   "cell_type": "markdown",
   "metadata": {},
   "source": [
    "## Credict Card Fraud Detection using `LOGISTIC REGRESSION`"
   ]
  },
  {
   "cell_type": "markdown",
   "metadata": {},
   "source": [
    "<hr style=\"border:2px solid gray\">"
   ]
  },
  {
   "cell_type": "markdown",
   "metadata": {},
   "source": [
    "### Import libraries"
   ]
  },
  {
   "cell_type": "code",
   "execution_count": 4,
   "metadata": {},
   "outputs": [],
   "source": [
    "from sklearn.model_selection import train_test_split, StratifiedShuffleSplit\n",
    "from sklearn.linear_model import LogisticRegression\n",
    "from sklearn.metrics import confusion_matrix\n",
    "from sklearn.metrics import jaccard_score, accuracy_score, f1_score, classification_report\n",
    "from utils import extract_files\n",
    "from imblearn.under_sampling import RandomUnderSampler\n",
    "import matplotlib.pyplot as plt\n",
    "from sklearn import preprocessing\n",
    "import seaborn as sns\n",
    "import itertools\n",
    "import pandas as pd\n",
    "import numpy as np\n",
    "\n"
   ]
  },
  {
   "cell_type": "markdown",
   "metadata": {},
   "source": [
    "### Download dataset"
   ]
  },
  {
   "cell_type": "markdown",
   "metadata": {},
   "source": [
    "Option 1: using the API's Kaggle <br><br>\n",
    "Note: the Kaggle library doesn't work with Python 3.12"
   ]
  },
  {
   "cell_type": "code",
   "execution_count": 5,
   "metadata": {},
   "outputs": [],
   "source": [
    "# import kaggle\n",
    "# kaggle datasets download -d mlg-ulb/creditcardfraud\n",
    "# extract_files('creditcardfraud.zip')"
   ]
  },
  {
   "cell_type": "markdown",
   "metadata": {},
   "source": [
    "Option 2: Download from Kaggle website"
   ]
  },
  {
   "cell_type": "code",
   "execution_count": 6,
   "metadata": {},
   "outputs": [],
   "source": [
    "# https://www.kaggle.com/datasets/mlg-ulb/creditcardfraud/data"
   ]
  },
  {
   "cell_type": "markdown",
   "metadata": {},
   "source": [
    "### Load data into dataframe"
   ]
  },
  {
   "cell_type": "code",
   "execution_count": 7,
   "metadata": {},
   "outputs": [],
   "source": [
    "df_credit_card = pd.read_csv('creditcard.csv') "
   ]
  },
  {
   "cell_type": "markdown",
   "metadata": {},
   "source": [
    "##### To see info about dataset, go to the other file named: fastEda.ipynb"
   ]
  },
  {
   "cell_type": "markdown",
   "metadata": {},
   "source": [
    "Let's check the type of target data, it must be an integer. If it isn't an integer, we should change its type. "
   ]
  },
  {
   "cell_type": "code",
   "execution_count": 8,
   "metadata": {},
   "outputs": [
    {
     "data": {
      "text/plain": [
       "dtype('int64')"
      ]
     },
     "execution_count": 8,
     "metadata": {},
     "output_type": "execute_result"
    }
   ],
   "source": [
    "df_credit_card.Class.dtype"
   ]
  },
  {
   "cell_type": "code",
   "execution_count": 9,
   "metadata": {},
   "outputs": [
    {
     "name": "stdout",
     "output_type": "stream",
     "text": [
      "No Fraud - Rows x Columns: (284315, 31)\n",
      "Fraud - Rows x Columns: (492, 31)\n"
     ]
    }
   ],
   "source": [
    "fraud = df_credit_card[df_credit_card.Class == 1]\n",
    "no_fraud = df_credit_card[df_credit_card.Class == 0]\n",
    "print('No Fraud - Rows x Columns:', no_fraud.shape)\n",
    "print('Fraud - Rows x Columns:', fraud.shape)\n"
   ]
  },
  {
   "cell_type": "markdown",
   "metadata": {},
   "source": [
    "<hr style=\"border:1px solid green\">"
   ]
  },
  {
   "cell_type": "markdown",
   "metadata": {},
   "source": [
    "## Unbalanced dataset"
   ]
  },
  {
   "cell_type": "code",
   "execution_count": 10,
   "metadata": {},
   "outputs": [
    {
     "data": {
      "text/plain": [
       "(284807, 31)"
      ]
     },
     "execution_count": 10,
     "metadata": {},
     "output_type": "execute_result"
    }
   ],
   "source": [
    "df_unbalanced_credit_card = df_credit_card.copy()\n",
    "df_unbalanced_credit_card.shape"
   ]
  },
  {
   "cell_type": "markdown",
   "metadata": {},
   "source": [
    "#### Define `X` (independent variables)\n"
   ]
  },
  {
   "cell_type": "code",
   "execution_count": 11,
   "metadata": {},
   "outputs": [
    {
     "data": {
      "text/plain": [
       "(284807, 30)"
      ]
     },
     "metadata": {},
     "output_type": "display_data"
    },
    {
     "data": {
      "text/plain": [
       "array([[ 0.00000000e+00, -1.35980713e+00, -7.27811733e-02,\n",
       "         2.53634674e+00,  1.37815522e+00, -3.38320770e-01,\n",
       "         4.62387778e-01,  2.39598554e-01,  9.86979013e-02,\n",
       "         3.63786970e-01,  9.07941720e-02, -5.51599533e-01,\n",
       "        -6.17800856e-01, -9.91389847e-01, -3.11169354e-01,\n",
       "         1.46817697e+00, -4.70400525e-01,  2.07971242e-01,\n",
       "         2.57905802e-02,  4.03992960e-01,  2.51412098e-01,\n",
       "        -1.83067779e-02,  2.77837576e-01, -1.10473910e-01,\n",
       "         6.69280749e-02,  1.28539358e-01, -1.89114844e-01,\n",
       "         1.33558377e-01, -2.10530535e-02,  1.49620000e+02],\n",
       "       [ 0.00000000e+00,  1.19185711e+00,  2.66150712e-01,\n",
       "         1.66480113e-01,  4.48154078e-01,  6.00176493e-02,\n",
       "        -8.23608088e-02, -7.88029833e-02,  8.51016549e-02,\n",
       "        -2.55425128e-01, -1.66974414e-01,  1.61272666e+00,\n",
       "         1.06523531e+00,  4.89095016e-01, -1.43772296e-01,\n",
       "         6.35558093e-01,  4.63917041e-01, -1.14804663e-01,\n",
       "        -1.83361270e-01, -1.45783041e-01, -6.90831352e-02,\n",
       "        -2.25775248e-01, -6.38671953e-01,  1.01288021e-01,\n",
       "        -3.39846476e-01,  1.67170404e-01,  1.25894532e-01,\n",
       "        -8.98309914e-03,  1.47241692e-02,  2.69000000e+00],\n",
       "       [ 1.00000000e+00, -1.35835406e+00, -1.34016307e+00,\n",
       "         1.77320934e+00,  3.79779593e-01, -5.03198133e-01,\n",
       "         1.80049938e+00,  7.91460956e-01,  2.47675787e-01,\n",
       "        -1.51465432e+00,  2.07642865e-01,  6.24501459e-01,\n",
       "         6.60836853e-02,  7.17292731e-01, -1.65945923e-01,\n",
       "         2.34586495e+00, -2.89008319e+00,  1.10996938e+00,\n",
       "        -1.21359313e-01, -2.26185710e+00,  5.24979725e-01,\n",
       "         2.47998153e-01,  7.71679402e-01,  9.09412262e-01,\n",
       "        -6.89280956e-01, -3.27641834e-01, -1.39096572e-01,\n",
       "        -5.53527940e-02, -5.97518406e-02,  3.78660000e+02],\n",
       "       [ 1.00000000e+00, -9.66271712e-01, -1.85226008e-01,\n",
       "         1.79299334e+00, -8.63291275e-01, -1.03088796e-02,\n",
       "         1.24720317e+00,  2.37608940e-01,  3.77435875e-01,\n",
       "        -1.38702406e+00, -5.49519225e-02, -2.26487264e-01,\n",
       "         1.78228226e-01,  5.07756870e-01, -2.87923745e-01,\n",
       "        -6.31418118e-01, -1.05964725e+00, -6.84092786e-01,\n",
       "         1.96577500e+00, -1.23262197e+00, -2.08037781e-01,\n",
       "        -1.08300452e-01,  5.27359678e-03, -1.90320519e-01,\n",
       "        -1.17557533e+00,  6.47376035e-01, -2.21928844e-01,\n",
       "         6.27228487e-02,  6.14576285e-02,  1.23500000e+02],\n",
       "       [ 2.00000000e+00, -1.15823309e+00,  8.77736755e-01,\n",
       "         1.54871785e+00,  4.03033934e-01, -4.07193377e-01,\n",
       "         9.59214625e-02,  5.92940745e-01, -2.70532677e-01,\n",
       "         8.17739308e-01,  7.53074432e-01, -8.22842878e-01,\n",
       "         5.38195550e-01,  1.34585159e+00, -1.11966983e+00,\n",
       "         1.75121130e-01, -4.51449183e-01, -2.37033239e-01,\n",
       "        -3.81947870e-02,  8.03486925e-01,  4.08542360e-01,\n",
       "        -9.43069713e-03,  7.98278495e-01, -1.37458080e-01,\n",
       "         1.41266984e-01, -2.06009588e-01,  5.02292224e-01,\n",
       "         2.19422230e-01,  2.15153147e-01,  6.99900000e+01]])"
      ]
     },
     "execution_count": 11,
     "metadata": {},
     "output_type": "execute_result"
    }
   ],
   "source": [
    "X_unb = df_unbalanced_credit_card.drop('Class', axis=1)\n",
    "display(X_unb.shape)\n",
    "X_unb = np.asarray(X_unb)\n",
    "X_unb[0:5]"
   ]
  },
  {
   "cell_type": "markdown",
   "metadata": {},
   "source": [
    "#### Define `y` target\n"
   ]
  },
  {
   "cell_type": "code",
   "execution_count": 12,
   "metadata": {},
   "outputs": [
    {
     "data": {
      "text/plain": [
       "0    0\n",
       "1    0\n",
       "2    0\n",
       "3    0\n",
       "4    0\n",
       "Name: Class, dtype: int64"
      ]
     },
     "execution_count": 12,
     "metadata": {},
     "output_type": "execute_result"
    }
   ],
   "source": [
    "y_unb = df_unbalanced_credit_card.Class\n",
    "# y_unb = np.asarray(df_unbalanced_credit_card.Class) # sss doesn't work with \n",
    "y_unb.shape\n",
    "y_unb[0:5]"
   ]
  },
  {
   "cell_type": "markdown",
   "metadata": {},
   "source": [
    "#### Normalize X set"
   ]
  },
  {
   "cell_type": "code",
   "execution_count": 13,
   "metadata": {},
   "outputs": [
    {
     "data": {
      "text/plain": [
       "array([[-1.99658302, -0.69424232, -0.04407492,  1.6727735 ,  0.97336551,\n",
       "        -0.24511658,  0.34706795,  0.19367894,  0.08263728,  0.33112778,\n",
       "         0.08338555, -0.54040704, -0.61829572, -0.99609892, -0.32461019,\n",
       "         1.60401384, -0.53683287,  0.24486345,  0.03076993,  0.49628203,\n",
       "         0.32611802, -0.02492336,  0.38285444, -0.17691133,  0.11050692,\n",
       "         0.24658544, -0.39217043,  0.33089162, -0.06378115,  0.24496426],\n",
       "       [-1.99658302,  0.60849633,  0.16117592,  0.1097971 ,  0.31652293,\n",
       "         0.04348335, -0.06181997, -0.06370021,  0.07125348, -0.23249419,\n",
       "        -0.15334963,  1.58000285,  1.06608857,  0.4914182 , -0.14998248,\n",
       "         0.69436042,  0.52943375, -0.13516997, -0.21876258, -0.17908605,\n",
       "        -0.08961086, -0.3073768 , -0.88007675,  0.16220118, -0.56113055,\n",
       "         0.3206939 ,  0.26106948, -0.02225568,  0.04460752, -0.34247454],\n",
       "       [-1.99656197, -0.69350046, -0.81157783,  1.16946849,  0.26823129,\n",
       "        -0.36457179,  1.35145359,  0.63977564,  0.20737273, -1.37867535,\n",
       "         0.19069961,  0.61182971,  0.06613662,  0.72069985, -0.17311389,\n",
       "         2.56290618, -3.29823537,  1.30686788, -0.14478999, -2.77856085,\n",
       "         0.68097497,  0.3376317 ,  1.06335827,  1.45631975, -1.13809214,\n",
       "        -0.62853672, -0.28844675, -0.13713686, -0.18102083,  1.16068593],\n",
       "       [-1.99656197, -0.4933249 , -0.11216942,  1.18251645, -0.60972664,\n",
       "        -0.00746888,  0.93614983,  0.19207064,  0.3160176 , -1.26250317,\n",
       "        -0.05046795, -0.22189161,  0.17837099,  0.5101687 , -0.30036049,\n",
       "        -0.68983741, -1.20929599, -0.80544464,  2.34530452, -1.51420492,\n",
       "        -0.26985523, -0.1474433 ,  0.00726691, -0.30477655, -1.94102714,\n",
       "         1.24190371, -0.46021734,  0.15539621,  0.18618859,  0.14053425],\n",
       "       [-1.99654091, -0.59132976,  0.53154105,  1.02141168,  0.2846554 ,\n",
       "        -0.29501544,  0.07199858,  0.47930228, -0.22651023,  0.74432629,\n",
       "         0.69162503, -0.80614659,  0.53862665,  1.35224435, -1.16803351,\n",
       "         0.19132347, -0.51520512, -0.27908079, -0.045569  ,  0.9870373 ,\n",
       "         0.52993879, -0.01283922,  1.10001127, -0.2201234 ,  0.23325009,\n",
       "        -0.39520164,  1.0416113 ,  0.5436198 ,  0.65181592, -0.07340334]])"
      ]
     },
     "execution_count": 13,
     "metadata": {},
     "output_type": "execute_result"
    }
   ],
   "source": [
    "X_unb=preprocessing.StandardScaler().fit(X_unb).transform(X_unb)\n",
    "X_unb[0:5]"
   ]
  },
  {
   "cell_type": "markdown",
   "metadata": {},
   "source": [
    "### Define train/test set"
   ]
  },
  {
   "cell_type": "code",
   "execution_count": 14,
   "metadata": {},
   "outputs": [
    {
     "name": "stdout",
     "output_type": "stream",
     "text": [
      "X Train set:  (227845, 30)\n",
      "Y Train set:  (227845,)\n",
      "==============\n",
      "X Test set:  (56962, 30)\n",
      "Y Test set:  (56962,)\n"
     ]
    }
   ],
   "source": [
    "# evaluate to change parameters to enhanced the predictions\n",
    "\n",
    "sss = StratifiedShuffleSplit(n_splits=5, test_size=0.2, random_state=0)\n",
    "sss.get_n_splits(X_unb, y_unb)\n",
    "for i, (train_index, test_index) in enumerate(sss.split(X_unb, y_unb)):\n",
    "    X_train, X_test = X_unb[train_index], X_unb[test_index]\n",
    "    y_train, y_test = y_unb[train_index], y_unb[test_index]\n",
    "    \n",
    "print (\"X Train set: \", X_train.shape)\n",
    "print (\"Y Train set: \", y_train.shape)\n",
    "print ('==============')\n",
    "print (\"X Test set: \", X_test.shape)\n",
    "print (\"Y Test set: \", y_test.shape)\n",
    "\n"
   ]
  },
  {
   "cell_type": "markdown",
   "metadata": {},
   "source": [
    "### Modeling: LogisticRegression"
   ]
  },
  {
   "cell_type": "code",
   "execution_count": 15,
   "metadata": {},
   "outputs": [
    {
     "name": "stderr",
     "output_type": "stream",
     "text": [
      "/Users/mayv/anaconda3/envs/base-environment/lib/python3.12/site-packages/sklearn/linear_model/_sag.py:349: ConvergenceWarning: The max_iter was reached which means the coef_ did not converge\n",
      "  warnings.warn(\n"
     ]
    }
   ],
   "source": [
    "#we use several solvers to evaluate the accuracy for each prediction\n",
    "log_reg_lib = LogisticRegression(C=0.01, solver='liblinear').fit(X_train, y_train)\n",
    "log_reg_nwt = LogisticRegression(C=0.01, solver='newton-cg').fit(X_train, y_train)\n",
    "log_reg_lb = LogisticRegression(C=0.01, solver='lbfgs').fit(X_train, y_train)\n",
    "log_reg_sag = LogisticRegression(C=0.01, solver='sag').fit(X_train, y_train)"
   ]
  },
  {
   "cell_type": "markdown",
   "metadata": {},
   "source": [
    "#### Predictions"
   ]
  },
  {
   "cell_type": "code",
   "execution_count": 16,
   "metadata": {},
   "outputs": [],
   "source": [
    "yhat_lib = log_reg_lib.predict(X_test)\n",
    "yhat_nwt = log_reg_nwt.predict(X_test)\n",
    "yhat_lb = log_reg_lb.predict(X_test)\n",
    "yhat_sag = log_reg_sag.predict(X_test)"
   ]
  },
  {
   "cell_type": "markdown",
   "metadata": {},
   "source": [
    "#### Metrics"
   ]
  },
  {
   "cell_type": "markdown",
   "metadata": {},
   "source": [
    "Classification report"
   ]
  },
  {
   "cell_type": "code",
   "execution_count": 17,
   "metadata": {},
   "outputs": [
    {
     "name": "stdout",
     "output_type": "stream",
     "text": [
      "Classification Report on testing data \n",
      " ============\n",
      "Libnear:\n",
      "                precision    recall  f1-score   support\n",
      "\n",
      "   Not Fraud       1.00      1.00      1.00     56864\n",
      "       Fraud       0.86      0.57      0.69        98\n",
      "\n",
      "    accuracy                           1.00     56962\n",
      "   macro avg       0.93      0.79      0.84     56962\n",
      "weighted avg       1.00      1.00      1.00     56962\n",
      " \n",
      " ============\n",
      "Newton-cg: \n",
      "                precision    recall  f1-score   support\n",
      "\n",
      "   Not Fraud       1.00      1.00      1.00     56864\n",
      "       Fraud       0.87      0.55      0.68        98\n",
      "\n",
      "    accuracy                           1.00     56962\n",
      "   macro avg       0.94      0.78      0.84     56962\n",
      "weighted avg       1.00      1.00      1.00     56962\n",
      " \n",
      " ============\n",
      "Lbfgs:\n",
      "                precision    recall  f1-score   support\n",
      "\n",
      "   Not Fraud       1.00      1.00      1.00     56864\n",
      "       Fraud       0.87      0.55      0.68        98\n",
      "\n",
      "    accuracy                           1.00     56962\n",
      "   macro avg       0.94      0.78      0.84     56962\n",
      "weighted avg       1.00      1.00      1.00     56962\n",
      " \n",
      " ============\n",
      "Sag:\n",
      "                precision    recall  f1-score   support\n",
      "\n",
      "   Not Fraud       1.00      1.00      1.00     56864\n",
      "       Fraud       0.87      0.55      0.68        98\n",
      "\n",
      "    accuracy                           1.00     56962\n",
      "   macro avg       0.94      0.78      0.84     56962\n",
      "weighted avg       1.00      1.00      1.00     56962\n",
      " \n",
      " ============\n"
     ]
    }
   ],
   "source": [
    "print (\"Classification Report on testing data \\n ============\")\n",
    "print(\"Libnear:\\n \", classification_report(y_test, yhat_lib, target_names=['Not Fraud', 'Fraud']), '\\n ============')\n",
    "print(\"Newton-cg: \\n \", classification_report(y_test, yhat_nwt, target_names=['Not Fraud', 'Fraud']), '\\n ============')\n",
    "print(\"Lbfgs:\\n \", classification_report(y_test, yhat_lb, target_names=['Not Fraud', 'Fraud']), '\\n ============')\n",
    "print(\"Sag:\\n \", classification_report(y_test, yhat_sag, target_names=['Not Fraud', 'Fraud']), '\\n ============')\n",
    "\n"
   ]
  },
  {
   "cell_type": "markdown",
   "metadata": {},
   "source": [
    "Jaccard Score"
   ]
  },
  {
   "cell_type": "code",
   "execution_count": 18,
   "metadata": {},
   "outputs": [
    {
     "name": "stdout",
     "output_type": "stream",
     "text": [
      "Jaccard score \n",
      " ============\n",
      "liblinear:  0.999103785189611\n",
      "newton-cg:  0.9990862444647501\n",
      "lbfgs:  0.9990862444647501\n",
      "sag:  0.9990862444647501\n"
     ]
    }
   ],
   "source": [
    "print ('Jaccard score \\n ============')\n",
    "print(\"liblinear: \", jaccard_score(y_test, yhat_lib, pos_label=0))\n",
    "print(\"newton-cg: \", jaccard_score(y_test, yhat_nwt, pos_label=0))\n",
    "print(\"lbfgs: \", jaccard_score(y_test, yhat_lb, pos_label=0))\n",
    "print(\"sag: \", jaccard_score(y_test, yhat_sag,pos_label=0))"
   ]
  },
  {
   "cell_type": "markdown",
   "metadata": {},
   "source": [
    "Accuracy"
   ]
  },
  {
   "cell_type": "code",
   "execution_count": 19,
   "metadata": {},
   "outputs": [
    {
     "name": "stdout",
     "output_type": "stream",
     "text": [
      "Accuracy score on testing data \n",
      " ============\n",
      "libnear:  0.9991046662687406\n",
      "newton-cg:  0.9990871107053826\n",
      "lbfgs:  0.9990871107053826\n",
      "sag:  0.9990871107053826\n"
     ]
    }
   ],
   "source": [
    "print (\"Accuracy score on testing data \\n ============\")\n",
    "print (\"libnear: \", accuracy_score(y_test, yhat_lib ))\n",
    "print (\"newton-cg: \", accuracy_score(y_test, yhat_nwt))\n",
    "print(\"lbfgs: \", accuracy_score(y_test, yhat_lb))\n",
    "print(\"sag: \", accuracy_score(y_test, yhat_sag))"
   ]
  },
  {
   "cell_type": "markdown",
   "metadata": {},
   "source": [
    "F1-Score"
   ]
  },
  {
   "cell_type": "code",
   "execution_count": 20,
   "metadata": {},
   "outputs": [
    {
     "name": "stdout",
     "output_type": "stream",
     "text": [
      "F1 score on testing data \n",
      " ============\n",
      "libnear:  0.6871165644171779\n",
      "newton-cg:  0.675\n",
      "lb:  0.675\n",
      "sag:  0.675\n"
     ]
    }
   ],
   "source": [
    "print (\"F1 score on testing data \\n ============\")\n",
    "print (\"libnear: \", f1_score(y_test, yhat_lib))\n",
    "print (\"newton-cg: \", f1_score(y_test, yhat_nwt) )\n",
    "print(\"lb: \", f1_score(y_test, yhat_lb))\n",
    "print (\"sag: \", f1_score(y_test, yhat_sag) )"
   ]
  },
  {
   "cell_type": "markdown",
   "metadata": {},
   "source": [
    "<hr style=\"border:1px solid green\">"
   ]
  },
  {
   "cell_type": "markdown",
   "metadata": {},
   "source": [
    "## Balanced dataset"
   ]
  },
  {
   "cell_type": "code",
   "execution_count": 21,
   "metadata": {},
   "outputs": [
    {
     "name": "stdout",
     "output_type": "stream",
     "text": [
      "No fraudulent transactions:  284315\n",
      "Fraudulent transactions:  492\n"
     ]
    }
   ],
   "source": [
    "# To reminder: the original dataset is unbalanced\n",
    "print ('No fraudulent transactions: ', no_fraud.shape[0])\n",
    "print ('Fraudulent transactions: ', fraud.shape[0])"
   ]
  },
  {
   "cell_type": "markdown",
   "metadata": {},
   "source": [
    "### Define `X`"
   ]
  },
  {
   "cell_type": "code",
   "execution_count": 22,
   "metadata": {},
   "outputs": [
    {
     "data": {
      "text/plain": [
       "(284807, 30)"
      ]
     },
     "metadata": {},
     "output_type": "display_data"
    },
    {
     "data": {
      "text/plain": [
       "array([[ 0.00000000e+00, -1.35980713e+00, -7.27811733e-02,\n",
       "         2.53634674e+00,  1.37815522e+00, -3.38320770e-01,\n",
       "         4.62387778e-01,  2.39598554e-01,  9.86979013e-02,\n",
       "         3.63786970e-01,  9.07941720e-02, -5.51599533e-01,\n",
       "        -6.17800856e-01, -9.91389847e-01, -3.11169354e-01,\n",
       "         1.46817697e+00, -4.70400525e-01,  2.07971242e-01,\n",
       "         2.57905802e-02,  4.03992960e-01,  2.51412098e-01,\n",
       "        -1.83067779e-02,  2.77837576e-01, -1.10473910e-01,\n",
       "         6.69280749e-02,  1.28539358e-01, -1.89114844e-01,\n",
       "         1.33558377e-01, -2.10530535e-02,  1.49620000e+02],\n",
       "       [ 0.00000000e+00,  1.19185711e+00,  2.66150712e-01,\n",
       "         1.66480113e-01,  4.48154078e-01,  6.00176493e-02,\n",
       "        -8.23608088e-02, -7.88029833e-02,  8.51016549e-02,\n",
       "        -2.55425128e-01, -1.66974414e-01,  1.61272666e+00,\n",
       "         1.06523531e+00,  4.89095016e-01, -1.43772296e-01,\n",
       "         6.35558093e-01,  4.63917041e-01, -1.14804663e-01,\n",
       "        -1.83361270e-01, -1.45783041e-01, -6.90831352e-02,\n",
       "        -2.25775248e-01, -6.38671953e-01,  1.01288021e-01,\n",
       "        -3.39846476e-01,  1.67170404e-01,  1.25894532e-01,\n",
       "        -8.98309914e-03,  1.47241692e-02,  2.69000000e+00],\n",
       "       [ 1.00000000e+00, -1.35835406e+00, -1.34016307e+00,\n",
       "         1.77320934e+00,  3.79779593e-01, -5.03198133e-01,\n",
       "         1.80049938e+00,  7.91460956e-01,  2.47675787e-01,\n",
       "        -1.51465432e+00,  2.07642865e-01,  6.24501459e-01,\n",
       "         6.60836853e-02,  7.17292731e-01, -1.65945923e-01,\n",
       "         2.34586495e+00, -2.89008319e+00,  1.10996938e+00,\n",
       "        -1.21359313e-01, -2.26185710e+00,  5.24979725e-01,\n",
       "         2.47998153e-01,  7.71679402e-01,  9.09412262e-01,\n",
       "        -6.89280956e-01, -3.27641834e-01, -1.39096572e-01,\n",
       "        -5.53527940e-02, -5.97518406e-02,  3.78660000e+02],\n",
       "       [ 1.00000000e+00, -9.66271712e-01, -1.85226008e-01,\n",
       "         1.79299334e+00, -8.63291275e-01, -1.03088796e-02,\n",
       "         1.24720317e+00,  2.37608940e-01,  3.77435875e-01,\n",
       "        -1.38702406e+00, -5.49519225e-02, -2.26487264e-01,\n",
       "         1.78228226e-01,  5.07756870e-01, -2.87923745e-01,\n",
       "        -6.31418118e-01, -1.05964725e+00, -6.84092786e-01,\n",
       "         1.96577500e+00, -1.23262197e+00, -2.08037781e-01,\n",
       "        -1.08300452e-01,  5.27359678e-03, -1.90320519e-01,\n",
       "        -1.17557533e+00,  6.47376035e-01, -2.21928844e-01,\n",
       "         6.27228487e-02,  6.14576285e-02,  1.23500000e+02],\n",
       "       [ 2.00000000e+00, -1.15823309e+00,  8.77736755e-01,\n",
       "         1.54871785e+00,  4.03033934e-01, -4.07193377e-01,\n",
       "         9.59214625e-02,  5.92940745e-01, -2.70532677e-01,\n",
       "         8.17739308e-01,  7.53074432e-01, -8.22842878e-01,\n",
       "         5.38195550e-01,  1.34585159e+00, -1.11966983e+00,\n",
       "         1.75121130e-01, -4.51449183e-01, -2.37033239e-01,\n",
       "        -3.81947870e-02,  8.03486925e-01,  4.08542360e-01,\n",
       "        -9.43069713e-03,  7.98278495e-01, -1.37458080e-01,\n",
       "         1.41266984e-01, -2.06009588e-01,  5.02292224e-01,\n",
       "         2.19422230e-01,  2.15153147e-01,  6.99900000e+01]])"
      ]
     },
     "execution_count": 22,
     "metadata": {},
     "output_type": "execute_result"
    }
   ],
   "source": [
    "# define X\n",
    "X = df_credit_card.drop('Class', axis=1)\n",
    "display(X.shape)\n",
    "X = np.asarray(X)\n",
    "X[0:5]"
   ]
  },
  {
   "cell_type": "markdown",
   "metadata": {},
   "source": [
    "### Define `y` target"
   ]
  },
  {
   "cell_type": "code",
   "execution_count": 23,
   "metadata": {},
   "outputs": [
    {
     "data": {
      "text/plain": [
       "(284807,)"
      ]
     },
     "execution_count": 23,
     "metadata": {},
     "output_type": "execute_result"
    }
   ],
   "source": [
    "# define y\n",
    "y = np.asarray(df_credit_card['Class'])\n",
    "y.shape\n"
   ]
  },
  {
   "cell_type": "markdown",
   "metadata": {},
   "source": [
    "### Normalize X"
   ]
  },
  {
   "cell_type": "code",
   "execution_count": 24,
   "metadata": {},
   "outputs": [
    {
     "data": {
      "text/plain": [
       "array([[-1.99658302, -0.69424232, -0.04407492,  1.6727735 ,  0.97336551,\n",
       "        -0.24511658,  0.34706795,  0.19367894,  0.08263728,  0.33112778,\n",
       "         0.08338555, -0.54040704, -0.61829572, -0.99609892, -0.32461019,\n",
       "         1.60401384, -0.53683287,  0.24486345,  0.03076993,  0.49628203,\n",
       "         0.32611802, -0.02492336,  0.38285444, -0.17691133,  0.11050692,\n",
       "         0.24658544, -0.39217043,  0.33089162, -0.06378115,  0.24496426],\n",
       "       [-1.99658302,  0.60849633,  0.16117592,  0.1097971 ,  0.31652293,\n",
       "         0.04348335, -0.06181997, -0.06370021,  0.07125348, -0.23249419,\n",
       "        -0.15334963,  1.58000285,  1.06608857,  0.4914182 , -0.14998248,\n",
       "         0.69436042,  0.52943375, -0.13516997, -0.21876258, -0.17908605,\n",
       "        -0.08961086, -0.3073768 , -0.88007675,  0.16220118, -0.56113055,\n",
       "         0.3206939 ,  0.26106948, -0.02225568,  0.04460752, -0.34247454],\n",
       "       [-1.99656197, -0.69350046, -0.81157783,  1.16946849,  0.26823129,\n",
       "        -0.36457179,  1.35145359,  0.63977564,  0.20737273, -1.37867535,\n",
       "         0.19069961,  0.61182971,  0.06613662,  0.72069985, -0.17311389,\n",
       "         2.56290618, -3.29823537,  1.30686788, -0.14478999, -2.77856085,\n",
       "         0.68097497,  0.3376317 ,  1.06335827,  1.45631975, -1.13809214,\n",
       "        -0.62853672, -0.28844675, -0.13713686, -0.18102083,  1.16068593],\n",
       "       [-1.99656197, -0.4933249 , -0.11216942,  1.18251645, -0.60972664,\n",
       "        -0.00746888,  0.93614983,  0.19207064,  0.3160176 , -1.26250317,\n",
       "        -0.05046795, -0.22189161,  0.17837099,  0.5101687 , -0.30036049,\n",
       "        -0.68983741, -1.20929599, -0.80544464,  2.34530452, -1.51420492,\n",
       "        -0.26985523, -0.1474433 ,  0.00726691, -0.30477655, -1.94102714,\n",
       "         1.24190371, -0.46021734,  0.15539621,  0.18618859,  0.14053425],\n",
       "       [-1.99654091, -0.59132976,  0.53154105,  1.02141168,  0.2846554 ,\n",
       "        -0.29501544,  0.07199858,  0.47930228, -0.22651023,  0.74432629,\n",
       "         0.69162503, -0.80614659,  0.53862665,  1.35224435, -1.16803351,\n",
       "         0.19132347, -0.51520512, -0.27908079, -0.045569  ,  0.9870373 ,\n",
       "         0.52993879, -0.01283922,  1.10001127, -0.2201234 ,  0.23325009,\n",
       "        -0.39520164,  1.0416113 ,  0.5436198 ,  0.65181592, -0.07340334]])"
      ]
     },
     "execution_count": 24,
     "metadata": {},
     "output_type": "execute_result"
    }
   ],
   "source": [
    "X=preprocessing.StandardScaler().fit(X).transform(X)\n",
    "X[0:5]"
   ]
  },
  {
   "cell_type": "markdown",
   "metadata": {},
   "source": [
    "### Random Under sampler"
   ]
  },
  {
   "cell_type": "markdown",
   "metadata": {},
   "source": [
    "Due to the dataset is unbalanced, there are only 492 fraudulent transactions, the training dataset must be reduced in order to balance the positive and negative cases."
   ]
  },
  {
   "cell_type": "code",
   "execution_count": 25,
   "metadata": {},
   "outputs": [
    {
     "name": "stdout",
     "output_type": "stream",
     "text": [
      "X data set: (984, 30)\n",
      "y target:  (984,)\n",
      "not fraud ( 0 ) : 492\n",
      "fraud:( 1 ): 492\n"
     ]
    }
   ],
   "source": [
    "rus = RandomUnderSampler(random_state=42)\n",
    "X_bal, y_bal = rus.fit_resample(X, y)\n",
    "print('X data set:', X_bal.shape)\n",
    "print('y target: ', y_bal.shape)\n",
    "values, count = np.unique(y_bal, return_counts=True, equal_nan=False)\n",
    "print ('not fraud (',str(values[0]),')', ':', count[0])\n",
    "print ('fraud:(',str(values[1]),')' ':', count[1])"
   ]
  },
  {
   "cell_type": "markdown",
   "metadata": {},
   "source": [
    "### Define train/test dataset"
   ]
  },
  {
   "cell_type": "code",
   "execution_count": 26,
   "metadata": {},
   "outputs": [
    {
     "name": "stdout",
     "output_type": "stream",
     "text": [
      "X Train set:  (787, 30)\n",
      "Y Train set:  (787,)\n",
      "==============\n",
      "X Test set:  (197, 30)\n",
      "Y Test set:  (197,)\n"
     ]
    }
   ],
   "source": [
    "#sss = StratifiedShuffleSplit(n_splits=5, test_size=0.2, random_state=0)\n",
    "sss.get_n_splits(X, y)\n",
    "for i, (train_index, test_index) in enumerate(sss.split(X_bal, y_bal)):\n",
    "    X_train_, X_test_ = X_bal[train_index], X_bal[test_index]\n",
    "    y_train_, y_test_ = y_bal[train_index], y_bal[test_index]\n",
    "    \n",
    "print (\"X Train set: \", X_train_.shape)\n",
    "print (\"Y Train set: \", y_train_.shape)\n",
    "print ('==============')\n",
    "print (\"X Test set: \", X_test_.shape)\n",
    "print (\"Y Test set: \", y_test_.shape)\n"
   ]
  },
  {
   "cell_type": "markdown",
   "metadata": {},
   "source": [
    "### Modeling: Logistic Regression"
   ]
  },
  {
   "cell_type": "code",
   "execution_count": 27,
   "metadata": {},
   "outputs": [
    {
     "name": "stderr",
     "output_type": "stream",
     "text": [
      "/Users/mayv/anaconda3/envs/base-environment/lib/python3.12/site-packages/sklearn/linear_model/_sag.py:349: ConvergenceWarning: The max_iter was reached which means the coef_ did not converge\n",
      "  warnings.warn(\n"
     ]
    }
   ],
   "source": [
    "#we use several solvers to evaluate the accuracy for each prediction\n",
    "log_reg_lib = LogisticRegression(C=0.01, solver='liblinear').fit(X_train_, y_train_)\n",
    "log_reg_nwt = LogisticRegression(C=0.01, solver='newton-cg').fit(X_train_, y_train_)\n",
    "log_reg_lb = LogisticRegression(C=0.01, solver='lbfgs').fit(X_train_, y_train_)\n",
    "log_reg_sag = LogisticRegression(C=0.01, solver='sag').fit(X_train_, y_train_)"
   ]
  },
  {
   "cell_type": "code",
   "execution_count": 28,
   "metadata": {},
   "outputs": [
    {
     "data": {
      "text/plain": [
       "array([[6.38420777e-01, 3.61579223e-01],\n",
       "       [1.01189600e-02, 9.89881040e-01],\n",
       "       [3.95770373e-01, 6.04229627e-01],\n",
       "       [6.55830800e-01, 3.44169200e-01],\n",
       "       [7.11786621e-01, 2.88213379e-01],\n",
       "       [6.29536536e-01, 3.70463464e-01],\n",
       "       [5.21452255e-01, 4.78547745e-01],\n",
       "       [5.70158848e-01, 4.29841152e-01],\n",
       "       [7.78618875e-01, 2.21381125e-01],\n",
       "       [5.89800118e-01, 4.10199882e-01],\n",
       "       [8.03007389e-03, 9.91969926e-01],\n",
       "       [6.77549491e-01, 3.22450509e-01],\n",
       "       [1.63928028e-04, 9.99836072e-01],\n",
       "       [6.67183880e-01, 3.32816120e-01],\n",
       "       [2.09931588e-02, 9.79006841e-01],\n",
       "       [6.75424693e-01, 3.24575307e-01],\n",
       "       [7.57524338e-01, 2.42475662e-01],\n",
       "       [9.97424045e-05, 9.99900258e-01],\n",
       "       [3.76664339e-02, 9.62333566e-01],\n",
       "       [7.27226971e-01, 2.72773029e-01],\n",
       "       [1.03575648e-07, 9.99999896e-01],\n",
       "       [7.49438556e-01, 2.50561444e-01],\n",
       "       [5.20608538e-03, 9.94793915e-01],\n",
       "       [6.88051909e-01, 3.11948091e-01],\n",
       "       [6.15029322e-01, 3.84970678e-01],\n",
       "       [7.66827431e-01, 2.33172569e-01],\n",
       "       [2.82002160e-03, 9.97179978e-01],\n",
       "       [1.03023295e-04, 9.99896977e-01],\n",
       "       [7.04214719e-01, 2.95785281e-01],\n",
       "       [7.82761650e-01, 2.17238350e-01],\n",
       "       [1.94897163e-02, 9.80510284e-01],\n",
       "       [7.96901484e-01, 2.03098516e-01],\n",
       "       [7.62523384e-01, 2.37476616e-01],\n",
       "       [2.15680608e-02, 9.78431939e-01],\n",
       "       [7.53555147e-01, 2.46444853e-01],\n",
       "       [7.21669491e-01, 2.78330509e-01],\n",
       "       [7.18266637e-01, 2.81733363e-01],\n",
       "       [7.33460687e-05, 9.99926654e-01],\n",
       "       [1.31001899e-03, 9.98689981e-01],\n",
       "       [9.26399583e-05, 9.99907360e-01],\n",
       "       [1.82471865e-04, 9.99817528e-01],\n",
       "       [1.46314553e-02, 9.85368545e-01],\n",
       "       [4.79630719e-01, 5.20369281e-01],\n",
       "       [2.19622286e-01, 7.80377714e-01],\n",
       "       [7.71283392e-01, 2.28716608e-01],\n",
       "       [4.54439596e-02, 9.54556040e-01],\n",
       "       [8.00883850e-01, 1.99116150e-01],\n",
       "       [4.99145228e-01, 5.00854772e-01],\n",
       "       [5.99743629e-01, 4.00256371e-01],\n",
       "       [3.29169110e-02, 9.67083089e-01],\n",
       "       [1.92351850e-02, 9.80764815e-01],\n",
       "       [5.94955912e-01, 4.05044088e-01],\n",
       "       [7.85138639e-08, 9.99999921e-01],\n",
       "       [3.79497900e-02, 9.62050210e-01],\n",
       "       [7.29650984e-01, 2.70349016e-01],\n",
       "       [7.91754490e-01, 2.08245510e-01],\n",
       "       [6.57173662e-01, 3.42826338e-01],\n",
       "       [7.48065346e-01, 2.51934654e-01],\n",
       "       [7.31325146e-01, 2.68674854e-01],\n",
       "       [3.23663234e-06, 9.99996763e-01],\n",
       "       [6.73929965e-01, 3.26070035e-01],\n",
       "       [2.84971621e-01, 7.15028379e-01],\n",
       "       [2.05565129e-06, 9.99997944e-01],\n",
       "       [6.75784485e-01, 3.24215515e-01],\n",
       "       [9.43820554e-07, 9.99999056e-01],\n",
       "       [2.58603471e-02, 9.74139653e-01],\n",
       "       [3.44006890e-02, 9.65599311e-01],\n",
       "       [6.88028002e-01, 3.11971998e-01],\n",
       "       [4.78942925e-03, 9.95210571e-01],\n",
       "       [7.67306579e-01, 2.32693421e-01],\n",
       "       [2.74468110e-02, 9.72553189e-01],\n",
       "       [6.57804732e-02, 9.34219527e-01],\n",
       "       [1.98379032e-03, 9.98016210e-01],\n",
       "       [2.80435462e-02, 9.71956454e-01],\n",
       "       [4.32438166e-01, 5.67561834e-01],\n",
       "       [7.04742883e-01, 2.95257117e-01],\n",
       "       [7.99398823e-01, 2.00601177e-01],\n",
       "       [6.59988724e-01, 3.40011276e-01],\n",
       "       [3.52518580e-01, 6.47481420e-01],\n",
       "       [4.27173135e-03, 9.95728269e-01],\n",
       "       [2.14547640e-02, 9.78545236e-01],\n",
       "       [1.62309571e-01, 8.37690429e-01],\n",
       "       [5.76693737e-03, 9.94233063e-01],\n",
       "       [6.32560760e-01, 3.67439240e-01],\n",
       "       [2.61466284e-01, 7.38533716e-01],\n",
       "       [7.92561484e-01, 2.07438516e-01],\n",
       "       [7.37437425e-01, 2.62562575e-01],\n",
       "       [7.42972357e-01, 2.57027643e-01],\n",
       "       [7.69395607e-01, 2.30604393e-01],\n",
       "       [7.45190828e-01, 2.54809172e-01],\n",
       "       [2.35952193e-03, 9.97640478e-01],\n",
       "       [7.30618554e-01, 2.69381446e-01],\n",
       "       [1.44738649e-04, 9.99855261e-01],\n",
       "       [7.57236876e-01, 2.42763124e-01],\n",
       "       [7.58267915e-01, 2.41732085e-01],\n",
       "       [7.44947959e-01, 2.55052041e-01],\n",
       "       [6.94426983e-01, 3.05573017e-01],\n",
       "       [2.56306459e-01, 7.43693541e-01],\n",
       "       [1.31492103e-04, 9.99868508e-01],\n",
       "       [8.34888705e-03, 9.91651113e-01],\n",
       "       [7.29819547e-01, 2.70180453e-01],\n",
       "       [6.34556775e-01, 3.65443225e-01],\n",
       "       [3.29012634e-02, 9.67098737e-01],\n",
       "       [1.13013215e-01, 8.86986785e-01],\n",
       "       [7.25154238e-01, 2.74845762e-01],\n",
       "       [1.71303980e-07, 9.99999829e-01],\n",
       "       [1.80781887e-06, 9.99998192e-01],\n",
       "       [6.24402026e-01, 3.75597974e-01],\n",
       "       [1.38484974e-02, 9.86151503e-01],\n",
       "       [3.46763298e-04, 9.99653237e-01],\n",
       "       [4.13727550e-07, 9.99999586e-01],\n",
       "       [7.37493462e-01, 2.62506538e-01],\n",
       "       [1.10023101e-02, 9.88997690e-01],\n",
       "       [7.08660263e-01, 2.91339737e-01],\n",
       "       [1.63850547e-03, 9.98361495e-01],\n",
       "       [5.87707828e-01, 4.12292172e-01],\n",
       "       [4.92094046e-01, 5.07905954e-01],\n",
       "       [6.58464187e-01, 3.41535813e-01],\n",
       "       [6.58706076e-01, 3.41293924e-01],\n",
       "       [1.19826026e-04, 9.99880174e-01],\n",
       "       [6.24454108e-01, 3.75545892e-01],\n",
       "       [1.27330610e-06, 9.99998727e-01],\n",
       "       [4.16155787e-04, 9.99583844e-01],\n",
       "       [7.22122239e-01, 2.77877761e-01],\n",
       "       [6.40776744e-01, 3.59223256e-01],\n",
       "       [8.02951553e-03, 9.91970484e-01],\n",
       "       [5.25566611e-07, 9.99999474e-01],\n",
       "       [7.55680125e-01, 2.44319875e-01],\n",
       "       [5.80173496e-01, 4.19826504e-01],\n",
       "       [7.78607297e-01, 2.21392703e-01],\n",
       "       [6.97118876e-01, 3.02881124e-01],\n",
       "       [6.02892500e-01, 3.97107500e-01],\n",
       "       [7.14834169e-01, 2.85165831e-01],\n",
       "       [7.08299274e-01, 2.91700726e-01],\n",
       "       [8.88203064e-03, 9.91117969e-01],\n",
       "       [1.14552464e-07, 9.99999885e-01],\n",
       "       [5.09118615e-01, 4.90881385e-01],\n",
       "       [7.11900061e-01, 2.88099939e-01],\n",
       "       [6.62988208e-01, 3.37011792e-01],\n",
       "       [4.20039326e-01, 5.79960674e-01],\n",
       "       [7.94926532e-01, 2.05073468e-01],\n",
       "       [7.63773286e-01, 2.36226714e-01],\n",
       "       [1.03595924e-06, 9.99998964e-01],\n",
       "       [2.48065635e-02, 9.75193437e-01],\n",
       "       [6.65596065e-01, 3.34403935e-01],\n",
       "       [1.19318272e-04, 9.99880682e-01],\n",
       "       [2.11456723e-01, 7.88543277e-01],\n",
       "       [1.03848938e-03, 9.98961511e-01],\n",
       "       [2.56348542e-01, 7.43651458e-01],\n",
       "       [7.16600652e-01, 2.83399348e-01],\n",
       "       [7.52834813e-01, 2.47165187e-01],\n",
       "       [4.46098421e-05, 9.99955390e-01],\n",
       "       [2.41920752e-04, 9.99758079e-01],\n",
       "       [5.72319378e-01, 4.27680622e-01],\n",
       "       [6.31599203e-01, 3.68400797e-01],\n",
       "       [5.03399285e-01, 4.96600715e-01],\n",
       "       [7.42285851e-01, 2.57714149e-01],\n",
       "       [3.95895492e-02, 9.60410451e-01],\n",
       "       [7.35414496e-01, 2.64585504e-01],\n",
       "       [1.57864395e-02, 9.84213561e-01],\n",
       "       [7.12208021e-01, 2.87791979e-01],\n",
       "       [2.55132419e-02, 9.74486758e-01],\n",
       "       [7.51987571e-01, 2.48012429e-01],\n",
       "       [3.70547826e-02, 9.62945217e-01],\n",
       "       [6.34873911e-04, 9.99365126e-01],\n",
       "       [5.99021590e-01, 4.00978410e-01],\n",
       "       [7.65997561e-01, 2.34002439e-01],\n",
       "       [4.09900372e-01, 5.90099628e-01],\n",
       "       [1.36795400e-03, 9.98632046e-01],\n",
       "       [5.79393732e-04, 9.99420606e-01],\n",
       "       [4.02379066e-01, 5.97620934e-01],\n",
       "       [7.42105828e-01, 2.57894172e-01],\n",
       "       [6.40292117e-01, 3.59707883e-01],\n",
       "       [3.19878068e-06, 9.99996801e-01],\n",
       "       [6.62881786e-01, 3.37118214e-01],\n",
       "       [7.43887541e-01, 2.56112459e-01],\n",
       "       [1.92317767e-04, 9.99807682e-01],\n",
       "       [8.96228705e-04, 9.99103771e-01],\n",
       "       [7.09044645e-01, 2.90955355e-01],\n",
       "       [7.42784432e-01, 2.57215568e-01],\n",
       "       [4.55186824e-03, 9.95448132e-01],\n",
       "       [4.46606905e-01, 5.53393095e-01],\n",
       "       [3.31484403e-06, 9.99996685e-01],\n",
       "       [1.32024237e-03, 9.98679758e-01],\n",
       "       [2.60923532e-02, 9.73907647e-01],\n",
       "       [7.31015685e-01, 2.68984315e-01],\n",
       "       [7.65232298e-01, 2.34767702e-01],\n",
       "       [3.39438704e-02, 9.66056130e-01],\n",
       "       [8.13887977e-01, 1.86112023e-01],\n",
       "       [7.51273064e-01, 2.48726936e-01],\n",
       "       [6.25959950e-01, 3.74040050e-01],\n",
       "       [1.74952770e-06, 9.99998250e-01],\n",
       "       [7.23726405e-01, 2.76273595e-01],\n",
       "       [7.42920596e-01, 2.57079404e-01],\n",
       "       [7.31033334e-01, 2.68966666e-01],\n",
       "       [7.55230207e-01, 2.44769793e-01],\n",
       "       [1.63215257e-07, 9.99999837e-01]])"
      ]
     },
     "execution_count": 28,
     "metadata": {},
     "output_type": "execute_result"
    }
   ],
   "source": [
    "log_reg_lib.predict_proba(X_test_)"
   ]
  },
  {
   "cell_type": "markdown",
   "metadata": {},
   "source": [
    "### Predictions"
   ]
  },
  {
   "cell_type": "code",
   "execution_count": 29,
   "metadata": {},
   "outputs": [],
   "source": [
    "y_pred_lib = log_reg_lib.predict(X_test_)\n",
    "y_pred_nwt = log_reg_nwt.predict(X_test_)\n",
    "y_pred_lb = log_reg_lb.predict(X_test_)\n",
    "y_pred_sag = log_reg_sag.predict(X_test_)"
   ]
  },
  {
   "cell_type": "markdown",
   "metadata": {},
   "source": [
    "### Metrics"
   ]
  },
  {
   "cell_type": "code",
   "execution_count": 30,
   "metadata": {},
   "outputs": [
    {
     "name": "stdout",
     "output_type": "stream",
     "text": [
      "Classification Report on testing data \n",
      " ============\n",
      "Libnear:\n",
      "                precision    recall  f1-score   support\n",
      "\n",
      "   Not Fraud       0.93      0.97      0.95        98\n",
      "       Fraud       0.97      0.93      0.95        99\n",
      "\n",
      "    accuracy                           0.95       197\n",
      "   macro avg       0.95      0.95      0.95       197\n",
      "weighted avg       0.95      0.95      0.95       197\n",
      " \n",
      " ============\n",
      "Newton-cg: \n",
      "                precision    recall  f1-score   support\n",
      "\n",
      "   Not Fraud       0.87      0.99      0.93        98\n",
      "       Fraud       0.99      0.86      0.92        99\n",
      "\n",
      "    accuracy                           0.92       197\n",
      "   macro avg       0.93      0.92      0.92       197\n",
      "weighted avg       0.93      0.92      0.92       197\n",
      " \n",
      " ============\n",
      "lbfgs: \n",
      "                precision    recall  f1-score   support\n",
      "\n",
      "   Not Fraud       0.87      0.99      0.93        98\n",
      "       Fraud       0.99      0.86      0.92        99\n",
      "\n",
      "    accuracy                           0.92       197\n",
      "   macro avg       0.93      0.92      0.92       197\n",
      "weighted avg       0.93      0.92      0.92       197\n",
      " \n",
      " ============\n"
     ]
    }
   ],
   "source": [
    "print (\"Classification Report on testing data \\n ============\")\n",
    "print(\"Libnear:\\n \", classification_report(y_test_, y_pred_lib, target_names=['Not Fraud', 'Fraud']), '\\n ============')\n",
    "print(\"Newton-cg: \\n \", classification_report(y_test_, y_pred_nwt, target_names=['Not Fraud', 'Fraud']), '\\n ============')\n",
    "print(\"lbfgs: \\n \", classification_report(y_test_, y_pred_lb, target_names=['Not Fraud', 'Fraud']), '\\n ============')"
   ]
  },
  {
   "cell_type": "markdown",
   "metadata": {},
   "source": [
    "Jaccard Score"
   ]
  },
  {
   "cell_type": "code",
   "execution_count": 31,
   "metadata": {},
   "outputs": [
    {
     "name": "stdout",
     "output_type": "stream",
     "text": [
      "Jaccard score \n",
      " ============\n",
      "liblinear:  0.9047619047619048\n",
      "newton-cg:  0.8660714285714286\n",
      "lbfgs:  0.8660714285714286\n",
      "sag:  0.8660714285714286\n"
     ]
    }
   ],
   "source": [
    "print ('Jaccard score \\n ============')\n",
    "print(\"liblinear: \", jaccard_score(y_test_, y_pred_lib, pos_label=0))\n",
    "print(\"newton-cg: \", jaccard_score(y_test_, y_pred_nwt, pos_label=0))\n",
    "print(\"lbfgs: \", jaccard_score(y_test_, y_pred_lb, pos_label=0))\n",
    "print(\"sag: \", jaccard_score(y_test_, y_pred_sag,pos_label=0))"
   ]
  },
  {
   "cell_type": "markdown",
   "metadata": {},
   "source": [
    "Accuracy"
   ]
  },
  {
   "cell_type": "code",
   "execution_count": 34,
   "metadata": {},
   "outputs": [
    {
     "name": "stdout",
     "output_type": "stream",
     "text": [
      "Accuracy score on testing data \n",
      " ============\n",
      "libnear:  0.949238578680203\n",
      "newton-cg:  0.9238578680203046\n",
      "lbfgs:  0.9238578680203046\n",
      "sag:  0.9238578680203046\n"
     ]
    }
   ],
   "source": [
    "print (\"Accuracy score on testing data \\n ============\")\n",
    "print (\"libnear: \", accuracy_score(y_test_, y_pred_lib ))\n",
    "print (\"newton-cg: \", accuracy_score(y_test_, y_pred_nwt))\n",
    "print(\"lbfgs: \", accuracy_score(y_test_, y_pred_lb))\n",
    "print(\"sag: \", accuracy_score(y_test_, y_pred_sag))"
   ]
  },
  {
   "cell_type": "markdown",
   "metadata": {},
   "source": [
    "F1-Score"
   ]
  },
  {
   "cell_type": "code",
   "execution_count": 35,
   "metadata": {},
   "outputs": [
    {
     "name": "stdout",
     "output_type": "stream",
     "text": [
      "F1 score on testing data \n",
      " ============\n",
      "libnear:  0.9484536082474226\n",
      "newton-cg:  0.918918918918919\n",
      "lb:  0.918918918918919\n",
      "sag:  0.918918918918919\n"
     ]
    }
   ],
   "source": [
    "print (\"F1 score on testing data \\n ============\")\n",
    "print (\"libnear: \", f1_score(y_test_, y_pred_lib))\n",
    "print (\"newton-cg: \", f1_score( y_test_, y_pred_nwt) )\n",
    "print(\"lb: \", f1_score(y_test_, y_pred_lb))\n",
    "print (\"sag: \", f1_score(y_test_, y_pred_sag) )"
   ]
  },
  {
   "cell_type": "markdown",
   "metadata": {},
   "source": [
    "#### Final Model"
   ]
  },
  {
   "cell_type": "code",
   "execution_count": 36,
   "metadata": {},
   "outputs": [],
   "source": [
    "final_model = LogisticRegression(C=0.01, solver='liblinear').fit(X_train_, y_train_)"
   ]
  }
 ],
 "metadata": {
  "kernelspec": {
   "display_name": "base-environment",
   "language": "python",
   "name": "python3"
  },
  "language_info": {
   "codemirror_mode": {
    "name": "ipython",
    "version": 3
   },
   "file_extension": ".py",
   "mimetype": "text/x-python",
   "name": "python",
   "nbconvert_exporter": "python",
   "pygments_lexer": "ipython3",
   "version": "3.12.3"
  }
 },
 "nbformat": 4,
 "nbformat_minor": 2
}
